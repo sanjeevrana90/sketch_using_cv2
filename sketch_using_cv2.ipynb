{
 "cells": [
  {
   "cell_type": "code",
   "execution_count": 1,
   "id": "24f563ae",
   "metadata": {},
   "outputs": [],
   "source": [
    "import cv2"
   ]
  },
  {
   "cell_type": "code",
   "execution_count": 7,
   "id": "4fe5b62a",
   "metadata": {
    "scrolled": true
   },
   "outputs": [],
   "source": [
    "# Load the image 'kate.jpeg' in color (3-channel BGR format)\n",
    "img = cv2.imread('kate.jpeg', 3)\n",
    "\n",
    "# Convert the color image to grayscale\n",
    "gray = cv2.cvtColor(img, cv2.COLOR_BGR2GRAY)\n",
    "\n",
    "# Invert the grayscale image\n",
    "inverted = cv2.bitwise_not(gray)\n",
    "\n",
    "# Apply Gaussian blur to the inverted image to smoothen it\n",
    "smoothen = cv2.GaussianBlur(inverted, (21, 21), sigmaX=0, sigmaY=0)\n",
    "\n",
    "# Define the 'dodge' function to create a dodging effect between two images\n",
    "# Dodge blend mode lightens the bottom layer with the top layer.\n",
    "# It's used here to enhance the features of the image.\n",
    "def dodge(a, b):\n",
    "    return cv2.divide(a, 255 - b, scale=256)\n",
    "\n",
    "# Create the final image by applying the dodge function to the grayscale and smoothened images\n",
    "final_img = dodge(gray, smoothen)\n",
    "\n",
    "# Display the final image in a window titled 'Final'\n",
    "cv2.imshow('Final', final_img)\n",
    "\n",
    "# Wait for a key press (0 means it waits indefinitely)\n",
    "cv2.waitKey(0)\n",
    "\n",
    "# Close all OpenCV windows\n",
    "cv2.destroyAllWindows()\n"
   ]
  },
  {
   "cell_type": "code",
   "execution_count": null,
   "id": "2fa4809f",
   "metadata": {},
   "outputs": [],
   "source": []
  }
 ],
 "metadata": {
  "kernelspec": {
   "display_name": "Python 3 (ipykernel)",
   "language": "python",
   "name": "python3"
  },
  "language_info": {
   "codemirror_mode": {
    "name": "ipython",
    "version": 3
   },
   "file_extension": ".py",
   "mimetype": "text/x-python",
   "name": "python",
   "nbconvert_exporter": "python",
   "pygments_lexer": "ipython3",
   "version": "3.11.2"
  }
 },
 "nbformat": 4,
 "nbformat_minor": 5
}
